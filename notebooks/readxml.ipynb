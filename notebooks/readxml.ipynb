{
 "cells": [
  {
   "cell_type": "markdown",
   "metadata": {},
   "source": [
    "# Read xml data\n",
    "\n",
    "In this exercise we'll explore the mechanism for working with xml data\n",
    "\n",
    "xml is a subset of sgml (Standard Generalized Markup Language).  \n",
    "\n",
    "Many important applications such as html are sgml applications.\n",
    "\n",
    "xml was designed to be easier to parse than sgml"
   ]
  },
  {
   "cell_type": "code",
   "execution_count": null,
   "metadata": {
    "collapsed": true
   },
   "outputs": [],
   "source": [
    "import numpy as np\n",
    "import scipy as sc\n",
    "import pandas as pd\n",
    "import matplotlib as mp\n",
    "import xml.etree.ElementTree as ET\n",
    "%matplotlib inline"
   ]
  },
  {
   "cell_type": "markdown",
   "metadata": {},
   "source": [
    "## Open the tcx file\n",
    "\n",
    "The data in the file is formatted as xml"
   ]
  },
  {
   "cell_type": "code",
   "execution_count": null,
   "metadata": {
    "collapsed": false
   },
   "outputs": [],
   "source": [
    "f = open('../workout_run_02_23_2017V2.tcx','r')"
   ]
  },
  {
   "cell_type": "markdown",
   "metadata": {},
   "source": [
    "## Read the contents of the tcx file and print its type"
   ]
  },
  {
   "cell_type": "code",
   "execution_count": null,
   "metadata": {
    "collapsed": false
   },
   "outputs": [],
   "source": [
    "xml = f.read()\n",
    "type(xml)"
   ]
  },
  {
   "cell_type": "code",
   "execution_count": null,
   "metadata": {
    "collapsed": false
   },
   "outputs": [],
   "source": [
    "xml[0:1000]"
   ]
  },
  {
   "cell_type": "markdown",
   "metadata": {},
   "source": [
    "## Pass the string to the ElementTree xml parser"
   ]
  },
  {
   "cell_type": "code",
   "execution_count": null,
   "metadata": {
    "collapsed": false
   },
   "outputs": [],
   "source": [
    "root = ET.fromstring(xml) \n",
    "type(root)"
   ]
  },
  {
   "cell_type": "code",
   "execution_count": null,
   "metadata": {
    "collapsed": true
   },
   "outputs": [],
   "source": [
    "ddict={}\n",
    "\n",
    "ddict['time']  = []\n",
    "ddict['ltime'] = []\n",
    "ddict['alt']   = []\n",
    "ddict['dm']    = []\n",
    "ddict['hrate'] = []"
   ]
  },
  {
   "cell_type": "markdown",
   "metadata": {},
   "source": [
    "## Walking through the element tree\n",
    "\n"
   ]
  },
  {
   "cell_type": "code",
   "execution_count": null,
   "metadata": {
    "collapsed": false
   },
   "outputs": [],
   "source": [
    "for acts in root.findall('Activities'):      #start with Activities element\n",
    "    for act in acts.findall('Activity'):     #step down to Activity element\n",
    "        sport = act.attrib['Sport']          #pick up the Sport attribute\n",
    "        for lap in act.findall('Lap'):       #step down to Lap element\n",
    "            lastime = lap.attrib['StartTime']\n",
    "            print(lapstart)\n",
    "            for track in lap.findall('Track'):\n",
    "                trackpoints=0\n",
    "                for tp in track.findall('Trackpoint'):\n",
    "                    ctime = None\n",
    "                    for tim in tp.findall('Time'):\n",
    "                        ctime = tim.text\n",
    "                    alt = None\n",
    "                    for am in tp.findall('AltitudeMeters'):\n",
    "                        alt = am.text\n",
    "                    dm = None\n",
    "                    for dm in tp.findall('DistanceMeters'):\n",
    "                        dist = dm.text\n",
    "                    hrate = None\n",
    "                    for hr in tp.find('HeartRateBpm'):\n",
    "                        hrate = hr.text\n",
    "                    ddict['time'].append(ctime)\n",
    "                    ddict['ltime'].append(lastime)\n",
    "                    ddict['alt'].append(alt)\n",
    "                    ddict['dm'].append(dist)\n",
    "                    ddict['hrate'].append(hrate)\n",
    "                    lastime=ctime\n",
    "                    trackpoints=trackpoints+1\n",
    "                    \n",
    "                print(\"Trackpoints: \",trackpoints)"
   ]
  },
  {
   "cell_type": "code",
   "execution_count": null,
   "metadata": {
    "collapsed": false
   },
   "outputs": [],
   "source": [
    "tcxdf = pd.DataFrame(ddict)\n",
    "tcxdf.head(20)"
   ]
  }
 ],
 "metadata": {
  "kernelspec": {
   "display_name": "Python 3",
   "language": "python",
   "name": "python3"
  },
  "language_info": {
   "codemirror_mode": {
    "name": "ipython",
    "version": 3
   },
   "file_extension": ".py",
   "mimetype": "text/x-python",
   "name": "python",
   "nbconvert_exporter": "python",
   "pygments_lexer": "ipython3",
   "version": "3.5.2"
  }
 },
 "nbformat": 4,
 "nbformat_minor": 2
}
