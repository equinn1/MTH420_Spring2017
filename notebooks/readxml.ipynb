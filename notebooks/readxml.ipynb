{
 "cells": [
  {
   "cell_type": "markdown",
   "metadata": {},
   "source": [
    "# Read xml data\n",
    "\n",
    "In this exercise we'll explore the mechanism for working with xml data\n",
    "\n",
    "xml is a subset of sgml (Standard Generalized Markup Language).  \n",
    "\n",
    "Many important applications such as html are sgml applications.\n",
    "\n",
    "xml was designed to be easier to parse than sgml"
   ]
  },
  {
   "cell_type": "code",
   "execution_count": 8,
   "metadata": {
    "collapsed": true
   },
   "outputs": [],
   "source": [
    "import numpy as np\n",
    "import scipy as sc\n",
    "import pandas as pd\n",
    "import matplotlib as mp\n",
    "import xml.etree.ElementTree as ET\n",
    "%matplotlib inline"
   ]
  },
  {
   "cell_type": "markdown",
   "metadata": {},
   "source": [
    "## Open the tcx file\n",
    "\n",
    "The data in the file is formatted as xml"
   ]
  },
  {
   "cell_type": "code",
   "execution_count": 80,
   "metadata": {
    "collapsed": false
   },
   "outputs": [],
   "source": [
    "f = open('../workout_run_02_23_2017V2.tcx','r')"
   ]
  },
  {
   "cell_type": "markdown",
   "metadata": {},
   "source": [
    "## Read the contents of the tcx file and print its type"
   ]
  },
  {
   "cell_type": "code",
   "execution_count": 81,
   "metadata": {
    "collapsed": false
   },
   "outputs": [
    {
     "data": {
      "text/plain": [
       "str"
      ]
     },
     "execution_count": 81,
     "metadata": {},
     "output_type": "execute_result"
    }
   ],
   "source": [
    "xml = f.read()\n",
    "type(xml)"
   ]
  },
  {
   "cell_type": "code",
   "execution_count": 82,
   "metadata": {
    "collapsed": false
   },
   "outputs": [
    {
     "data": {
      "text/plain": [
       "'<?xml version=\"1.0\" encoding=\"utf-8\" standalone=\"no\"?><TrainingCenterDatabase><Activities><Activity Sport=\"Running\"><Id>2017-02-23T16:44:06Z</Id><Lap StartTime=\"2017-02-23T16:44:06Z\"><TotalTimeSeconds>3390.000000</TotalTimeSeconds><DistanceMeters>6573.597796</DistanceMeters><Calories>781</Calories><AverageHeartRateBpm><Value>142</Value></AverageHeartRateBpm><MaximumHeartRateBpm><Value>175</Value></MaximumHeartRateBpm><Intensity>Active</Intensity><TriggerMethod>Manual</TriggerMethod><Track><Trackpoint><Time>2017-02-23T16:44:07Z</Time><Position><LatitudeDegrees>41.650381</LatitudeDegrees><LongitudeDegrees>-71.470925</LongitudeDegrees></Position><AltitudeMeters>-10.000000</AltitudeMeters><DistanceMeters>4.318020</DistanceMeters><HeartRateBpm><Value>95</Value></HeartRateBpm></Trackpoint><Trackpoint><Time>2017-02-23T16:44:10Z</Time><Position><LatitudeDegrees>41.650411</LatitudeDegrees><LongitudeDegrees>-71.470940</LongitudeDegrees></Position><AltitudeMeters>-10.000000</AltitudeMeters><Dista'"
      ]
     },
     "execution_count": 82,
     "metadata": {},
     "output_type": "execute_result"
    }
   ],
   "source": [
    "xml[0:1000]"
   ]
  },
  {
   "cell_type": "markdown",
   "metadata": {},
   "source": [
    "## Pass the string to the ElementTree xml parser"
   ]
  },
  {
   "cell_type": "code",
   "execution_count": 83,
   "metadata": {
    "collapsed": false
   },
   "outputs": [
    {
     "data": {
      "text/plain": [
       "xml.etree.ElementTree.Element"
      ]
     },
     "execution_count": 83,
     "metadata": {},
     "output_type": "execute_result"
    }
   ],
   "source": [
    "root = ET.fromstring(xml) \n",
    "type(root)"
   ]
  },
  {
   "cell_type": "code",
   "execution_count": 142,
   "metadata": {
    "collapsed": true
   },
   "outputs": [],
   "source": [
    "ddict={}\n",
    "\n",
    "ddict['time']  = []\n",
    "ddict['ltime'] = []\n",
    "ddict['alt']   = []\n",
    "ddict['dm']    = []\n",
    "ddict['hrate'] = []"
   ]
  },
  {
   "cell_type": "markdown",
   "metadata": {},
   "source": [
    "## Walking through the element tree\n",
    "\n"
   ]
  },
  {
   "cell_type": "code",
   "execution_count": 143,
   "metadata": {
    "collapsed": false
   },
   "outputs": [
    {
     "name": "stdout",
     "output_type": "stream",
     "text": [
      "2017-02-23T16:44:06Z\n",
      "Trackpoints:  1130\n"
     ]
    }
   ],
   "source": [
    "for acts in root.findall('Activities'):      #start with Activities element\n",
    "    for act in acts.findall('Activity'):     #step down to Activity element\n",
    "        sport = act.attrib['Sport']          #pick up the Sport attribute\n",
    "        for lap in act.findall('Lap'):       #step down to Lap element\n",
    "            lastime = lap.attrib['StartTime']\n",
    "            print(lapstart)\n",
    "            for track in lap.findall('Track'):\n",
    "                trackpoints=0\n",
    "                for tp in track.findall('Trackpoint'):\n",
    "                    ctime = None\n",
    "                    for tim in tp.findall('Time'):\n",
    "                        ctime = tim.text\n",
    "                    alt = None\n",
    "                    for am in tp.findall('AltitudeMeters'):\n",
    "                        alt = am.text\n",
    "                    dm = None\n",
    "                    for dm in tp.findall('DistanceMeters'):\n",
    "                        dist = dm.text\n",
    "                    hrate = None\n",
    "                    for hr in tp.find('HeartRateBpm'):\n",
    "                        hrate = hr.text\n",
    "                    ddict['time'].append(ctime)\n",
    "                    ddict['ltime'].append(lastime)\n",
    "                    ddict['alt'].append(alt)\n",
    "                    ddict['dm'].append(dist)\n",
    "                    ddict['hrate'].append(hrate)\n",
    "                    lastime=ctime\n",
    "                    trackpoints=trackpoints+1\n",
    "                    \n",
    "                print(\"Trackpoints: \",trackpoints)"
   ]
  },
  {
   "cell_type": "code",
   "execution_count": 144,
   "metadata": {
    "collapsed": false
   },
   "outputs": [
    {
     "data": {
      "text/html": [
       "<div>\n",
       "<table border=\"1\" class=\"dataframe\">\n",
       "  <thead>\n",
       "    <tr style=\"text-align: right;\">\n",
       "      <th></th>\n",
       "      <th>alt</th>\n",
       "      <th>dm</th>\n",
       "      <th>hrate</th>\n",
       "      <th>ltime</th>\n",
       "      <th>time</th>\n",
       "    </tr>\n",
       "  </thead>\n",
       "  <tbody>\n",
       "    <tr>\n",
       "      <th>0</th>\n",
       "      <td>-10.000000</td>\n",
       "      <td>4.318020</td>\n",
       "      <td>95</td>\n",
       "      <td>2017-02-23T16:44:06Z</td>\n",
       "      <td>2017-02-23T16:44:07Z</td>\n",
       "    </tr>\n",
       "    <tr>\n",
       "      <th>1</th>\n",
       "      <td>-10.000000</td>\n",
       "      <td>7.967646</td>\n",
       "      <td>95</td>\n",
       "      <td>2017-02-23T16:44:07Z</td>\n",
       "      <td>2017-02-23T16:44:10Z</td>\n",
       "    </tr>\n",
       "    <tr>\n",
       "      <th>2</th>\n",
       "      <td>-10.000000</td>\n",
       "      <td>13.841665</td>\n",
       "      <td>93</td>\n",
       "      <td>2017-02-23T16:44:10Z</td>\n",
       "      <td>2017-02-23T16:44:13Z</td>\n",
       "    </tr>\n",
       "    <tr>\n",
       "      <th>3</th>\n",
       "      <td>-10.000000</td>\n",
       "      <td>18.138377</td>\n",
       "      <td>95</td>\n",
       "      <td>2017-02-23T16:44:13Z</td>\n",
       "      <td>2017-02-23T16:44:16Z</td>\n",
       "    </tr>\n",
       "    <tr>\n",
       "      <th>4</th>\n",
       "      <td>-10.999999</td>\n",
       "      <td>23.326178</td>\n",
       "      <td>94</td>\n",
       "      <td>2017-02-23T16:44:16Z</td>\n",
       "      <td>2017-02-23T16:44:19Z</td>\n",
       "    </tr>\n",
       "    <tr>\n",
       "      <th>5</th>\n",
       "      <td>-10.999999</td>\n",
       "      <td>28.651742</td>\n",
       "      <td>95</td>\n",
       "      <td>2017-02-23T16:44:19Z</td>\n",
       "      <td>2017-02-23T16:44:22Z</td>\n",
       "    </tr>\n",
       "    <tr>\n",
       "      <th>6</th>\n",
       "      <td>-10.999999</td>\n",
       "      <td>31.961797</td>\n",
       "      <td>97</td>\n",
       "      <td>2017-02-23T16:44:22Z</td>\n",
       "      <td>2017-02-23T16:44:25Z</td>\n",
       "    </tr>\n",
       "    <tr>\n",
       "      <th>7</th>\n",
       "      <td>-10.999999</td>\n",
       "      <td>36.597517</td>\n",
       "      <td>96</td>\n",
       "      <td>2017-02-23T16:44:25Z</td>\n",
       "      <td>2017-02-23T16:44:28Z</td>\n",
       "    </tr>\n",
       "    <tr>\n",
       "      <th>8</th>\n",
       "      <td>-10.999999</td>\n",
       "      <td>39.879979</td>\n",
       "      <td>97</td>\n",
       "      <td>2017-02-23T16:44:28Z</td>\n",
       "      <td>2017-02-23T16:44:31Z</td>\n",
       "    </tr>\n",
       "    <tr>\n",
       "      <th>9</th>\n",
       "      <td>-10.000000</td>\n",
       "      <td>44.702739</td>\n",
       "      <td>93</td>\n",
       "      <td>2017-02-23T16:44:31Z</td>\n",
       "      <td>2017-02-23T16:44:34Z</td>\n",
       "    </tr>\n",
       "    <tr>\n",
       "      <th>10</th>\n",
       "      <td>-9.000000</td>\n",
       "      <td>50.103235</td>\n",
       "      <td>93</td>\n",
       "      <td>2017-02-23T16:44:34Z</td>\n",
       "      <td>2017-02-23T16:44:37Z</td>\n",
       "    </tr>\n",
       "    <tr>\n",
       "      <th>11</th>\n",
       "      <td>-9.000000</td>\n",
       "      <td>56.302337</td>\n",
       "      <td>93</td>\n",
       "      <td>2017-02-23T16:44:37Z</td>\n",
       "      <td>2017-02-23T16:44:40Z</td>\n",
       "    </tr>\n",
       "    <tr>\n",
       "      <th>12</th>\n",
       "      <td>-9.000000</td>\n",
       "      <td>61.310567</td>\n",
       "      <td>95</td>\n",
       "      <td>2017-02-23T16:44:40Z</td>\n",
       "      <td>2017-02-23T16:44:43Z</td>\n",
       "    </tr>\n",
       "    <tr>\n",
       "      <th>13</th>\n",
       "      <td>-9.000000</td>\n",
       "      <td>66.039114</td>\n",
       "      <td>95</td>\n",
       "      <td>2017-02-23T16:44:43Z</td>\n",
       "      <td>2017-02-23T16:44:46Z</td>\n",
       "    </tr>\n",
       "    <tr>\n",
       "      <th>14</th>\n",
       "      <td>-5.000000</td>\n",
       "      <td>70.332689</td>\n",
       "      <td>96</td>\n",
       "      <td>2017-02-23T16:44:46Z</td>\n",
       "      <td>2017-02-23T16:44:49Z</td>\n",
       "    </tr>\n",
       "    <tr>\n",
       "      <th>15</th>\n",
       "      <td>-4.000000</td>\n",
       "      <td>75.182811</td>\n",
       "      <td>95</td>\n",
       "      <td>2017-02-23T16:44:49Z</td>\n",
       "      <td>2017-02-23T16:44:52Z</td>\n",
       "    </tr>\n",
       "    <tr>\n",
       "      <th>16</th>\n",
       "      <td>-4.000000</td>\n",
       "      <td>80.384922</td>\n",
       "      <td>95</td>\n",
       "      <td>2017-02-23T16:44:52Z</td>\n",
       "      <td>2017-02-23T16:44:55Z</td>\n",
       "    </tr>\n",
       "    <tr>\n",
       "      <th>17</th>\n",
       "      <td>-6.000000</td>\n",
       "      <td>84.281828</td>\n",
       "      <td>96</td>\n",
       "      <td>2017-02-23T16:44:55Z</td>\n",
       "      <td>2017-02-23T16:44:58Z</td>\n",
       "    </tr>\n",
       "    <tr>\n",
       "      <th>18</th>\n",
       "      <td>-4.000000</td>\n",
       "      <td>88.405997</td>\n",
       "      <td>98</td>\n",
       "      <td>2017-02-23T16:44:58Z</td>\n",
       "      <td>2017-02-23T16:45:01Z</td>\n",
       "    </tr>\n",
       "    <tr>\n",
       "      <th>19</th>\n",
       "      <td>-4.000000</td>\n",
       "      <td>93.150047</td>\n",
       "      <td>101</td>\n",
       "      <td>2017-02-23T16:45:01Z</td>\n",
       "      <td>2017-02-23T16:45:04Z</td>\n",
       "    </tr>\n",
       "  </tbody>\n",
       "</table>\n",
       "</div>"
      ],
      "text/plain": [
       "           alt         dm hrate                 ltime                  time\n",
       "0   -10.000000   4.318020    95  2017-02-23T16:44:06Z  2017-02-23T16:44:07Z\n",
       "1   -10.000000   7.967646    95  2017-02-23T16:44:07Z  2017-02-23T16:44:10Z\n",
       "2   -10.000000  13.841665    93  2017-02-23T16:44:10Z  2017-02-23T16:44:13Z\n",
       "3   -10.000000  18.138377    95  2017-02-23T16:44:13Z  2017-02-23T16:44:16Z\n",
       "4   -10.999999  23.326178    94  2017-02-23T16:44:16Z  2017-02-23T16:44:19Z\n",
       "5   -10.999999  28.651742    95  2017-02-23T16:44:19Z  2017-02-23T16:44:22Z\n",
       "6   -10.999999  31.961797    97  2017-02-23T16:44:22Z  2017-02-23T16:44:25Z\n",
       "7   -10.999999  36.597517    96  2017-02-23T16:44:25Z  2017-02-23T16:44:28Z\n",
       "8   -10.999999  39.879979    97  2017-02-23T16:44:28Z  2017-02-23T16:44:31Z\n",
       "9   -10.000000  44.702739    93  2017-02-23T16:44:31Z  2017-02-23T16:44:34Z\n",
       "10   -9.000000  50.103235    93  2017-02-23T16:44:34Z  2017-02-23T16:44:37Z\n",
       "11   -9.000000  56.302337    93  2017-02-23T16:44:37Z  2017-02-23T16:44:40Z\n",
       "12   -9.000000  61.310567    95  2017-02-23T16:44:40Z  2017-02-23T16:44:43Z\n",
       "13   -9.000000  66.039114    95  2017-02-23T16:44:43Z  2017-02-23T16:44:46Z\n",
       "14   -5.000000  70.332689    96  2017-02-23T16:44:46Z  2017-02-23T16:44:49Z\n",
       "15   -4.000000  75.182811    95  2017-02-23T16:44:49Z  2017-02-23T16:44:52Z\n",
       "16   -4.000000  80.384922    95  2017-02-23T16:44:52Z  2017-02-23T16:44:55Z\n",
       "17   -6.000000  84.281828    96  2017-02-23T16:44:55Z  2017-02-23T16:44:58Z\n",
       "18   -4.000000  88.405997    98  2017-02-23T16:44:58Z  2017-02-23T16:45:01Z\n",
       "19   -4.000000  93.150047   101  2017-02-23T16:45:01Z  2017-02-23T16:45:04Z"
      ]
     },
     "execution_count": 144,
     "metadata": {},
     "output_type": "execute_result"
    }
   ],
   "source": [
    "tcxdf = pd.DataFrame(ddict)\n",
    "tcxdf.head(20)"
   ]
  }
 ],
 "metadata": {
  "kernelspec": {
   "display_name": "Python 3",
   "language": "python",
   "name": "python3"
  },
  "language_info": {
   "codemirror_mode": {
    "name": "ipython",
    "version": 3
   },
   "file_extension": ".py",
   "mimetype": "text/x-python",
   "name": "python",
   "nbconvert_exporter": "python",
   "pygments_lexer": "ipython3",
   "version": "3.5.2"
  }
 },
 "nbformat": 4,
 "nbformat_minor": 2
}
