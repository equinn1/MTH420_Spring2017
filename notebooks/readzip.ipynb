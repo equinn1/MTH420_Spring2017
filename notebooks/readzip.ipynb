{
 "cells": [
  {
   "cell_type": "markdown",
   "metadata": {},
   "source": [
    "# Read a zip archive\n",
    "\n",
    "In this exercise we'll explore the mechanism for working with zip archives\n",
    "\n",
    "The idea is to process the data without unpacking the archive, which python allows us to do"
   ]
  },
  {
   "cell_type": "code",
   "execution_count": 121,
   "metadata": {
    "collapsed": true
   },
   "outputs": [],
   "source": [
    "import numpy as np\n",
    "import scipy as sc\n",
    "import pandas as pd\n",
    "import zipfile as zf\n",
    "import matplotlib as mp\n",
    "from io import StringIO \n",
    "%matplotlib inline"
   ]
  },
  {
   "cell_type": "markdown",
   "metadata": {},
   "source": [
    "## Open a zip archive\n",
    "\n",
    "Our first step will be to open the zip archive.\n",
    "\n",
    "We could use the generic open() and read() functions in binary mode, but then we would have to decipher the internal structure of the zip file ourselves.\n",
    "\n",
    "This is a bad idea for a couple of reasons.  First, it would be a lot of work to reverse-engineer the zip data structure, and second, that structure is most likely subject to change over time, which would break our code in ways we can't easily anticipate.\n",
    "\n",
    "A much better approach is to use a python package written for that purpose.  Since there is a package for just about anything you want to do, we just have to find one.\n",
    "\n",
    "One possibility is the zipfile package, which we have imported.\n",
    "\n",
    "The function we use to open the archive for reading and assign the file object the name 'z' is:\n",
    "\n",
    "z = zf.ZipFile('filename','r')\n",
    "\n",
    "The file we will be using resides in the parent directory of this notebook, and its name is:\n",
    "\n",
    "FARS2015NationalCSV.zip\n",
    "\n",
    "This file contains data collected by the National Highway Traffic Safety Administration on fatal traffic accidents.  \n",
    "\n",
    "It was downloaded from the NHTSA FARS website:\n",
    "\n",
    "https://www.nhtsa.gov/research-data/fatality-analysis-reporting-system-fars"
   ]
  },
  {
   "cell_type": "code",
   "execution_count": 122,
   "metadata": {
    "collapsed": true
   },
   "outputs": [],
   "source": [
    "#"
   ]
  },
  {
   "cell_type": "markdown",
   "metadata": {},
   "source": [
    "## Determining what kind of object we have\n",
    "\n",
    "The python built-in function type() returns the name of the class an object belongs to.\n",
    "\n",
    "The syntax for an arbitrary python object called 'obj' is:\n",
    "\n",
    "type(obj)\n",
    "\n",
    "Use this function to display the type of the object we just created.\n",
    "\n",
    "For a list of python's built-in functions, see:\n",
    "\n",
    "https://docs.python.org/3/library/functions.html"
   ]
  },
  {
   "cell_type": "code",
   "execution_count": 123,
   "metadata": {
    "collapsed": false
   },
   "outputs": [],
   "source": [
    "#"
   ]
  },
  {
   "cell_type": "markdown",
   "metadata": {},
   "source": [
    "## Print the embedded documentation \n",
    "\n",
    "One of the strengths of python is \"introspection\", which means that python objects have the ability to reveal their properties.\n",
    "\n",
    "While it is optional, one of the best is the 'doc' property.  \n",
    "\n",
    "Developers can provide as much built-in documentation as they want (or none at all).\n",
    "\n",
    "For an arbitrary python object 'obj', the 'doc' information is accessed by:\n",
    "\n",
    "obj.\\_\\_doc\\_\\_\n",
    "\n",
    "(Note that there are two underscores preceding and following 'doc')\n",
    "\n",
    "Use this feature to print the built-in documentation for our ZipFile object."
   ]
  },
  {
   "cell_type": "code",
   "execution_count": 124,
   "metadata": {
    "collapsed": false
   },
   "outputs": [],
   "source": [
    "#"
   ]
  },
  {
   "cell_type": "markdown",
   "metadata": {},
   "source": [
    "## Using dir()\n",
    "\n",
    "Another piece of the introspection feature is the dir() function, which lists the attributes of a python object.\n",
    "\n",
    "The syntax for using it for an arbitrary python object named 'obj' is:\n",
    "\n",
    "obj.dir()\n",
    "\n",
    "Use dir() to list the attributes of our ZipFile object."
   ]
  },
  {
   "cell_type": "code",
   "execution_count": 125,
   "metadata": {
    "collapsed": false
   },
   "outputs": [],
   "source": [
    "#"
   ]
  },
  {
   "cell_type": "markdown",
   "metadata": {},
   "source": [
    "## Examining the methods available\n",
    "\n",
    "The attributes returned by dir() include the names of available methods for this class, i.e., the names of the functions we can run on an instance of the class.\n",
    "\n",
    "The standard way to refer to an arbitrary attribute 'att' of a python object 'obj' is:\n",
    "\n",
    "obj.att\n",
    "\n",
    "Use this to reference the 'printdir' attribute of our zipfile object."
   ]
  },
  {
   "cell_type": "code",
   "execution_count": 126,
   "metadata": {
    "collapsed": false
   },
   "outputs": [],
   "source": [
    "#"
   ]
  },
  {
   "cell_type": "markdown",
   "metadata": {},
   "source": [
    "## Using __doc__\n",
    "\n",
    "Since methods are python objects, we should be able to use __doc__ to access the documentation on printdir.\n",
    "\n",
    "See if you can print the __doc__ information for the printdir method."
   ]
  },
  {
   "cell_type": "code",
   "execution_count": 127,
   "metadata": {
    "collapsed": false
   },
   "outputs": [],
   "source": [
    "#"
   ]
  },
  {
   "cell_type": "markdown",
   "metadata": {},
   "source": [
    "## Calling a method\n",
    "\n",
    "To call a method, we need to have an instance of the class that method belongs to.  \n",
    "\n",
    "For an arbitrary method 'meth', if an arbitrary object 'obj' is an instance of a class that contains 'meth', we can invoke the method on 'obj' with the statement:\n",
    "\n",
    "obj.meth()\n",
    "\n",
    "Use this to invoke the printdir method on our zipfile object."
   ]
  },
  {
   "cell_type": "code",
   "execution_count": 128,
   "metadata": {
    "collapsed": false
   },
   "outputs": [],
   "source": [
    "#"
   ]
  },
  {
   "cell_type": "markdown",
   "metadata": {},
   "source": [
    "## Getting the names as a list\n",
    "\n",
    "One of the advantages of reading a zip archive without expanding it is that we can automate the processing of the files it contains, rather than having to extract them and run a program against each one of them.\n",
    "\n",
    "One of the steps in the automation will be to obtain a machine-readable list of the names of the files in the archive.\n",
    "\n",
    "Use the __doc__ feature to print the documentation on the namelist method."
   ]
  },
  {
   "cell_type": "code",
   "execution_count": 129,
   "metadata": {
    "collapsed": false
   },
   "outputs": [],
   "source": [
    "#"
   ]
  },
  {
   "cell_type": "markdown",
   "metadata": {},
   "source": [
    "## Running namelist\n",
    "\n",
    "Now invoke the namelist() method on our zipfile object.\n",
    "\n",
    "Call the result 'nl'"
   ]
  },
  {
   "cell_type": "code",
   "execution_count": 130,
   "metadata": {
    "collapsed": true
   },
   "outputs": [],
   "source": [
    "#"
   ]
  },
  {
   "cell_type": "markdown",
   "metadata": {},
   "source": [
    "## Determine the type returned\n",
    "\n",
    "Use the type() function to determine the type of the object returned by namelist()"
   ]
  },
  {
   "cell_type": "code",
   "execution_count": 131,
   "metadata": {
    "collapsed": false
   },
   "outputs": [],
   "source": [
    "#"
   ]
  },
  {
   "cell_type": "markdown",
   "metadata": {},
   "source": [
    "## Print the list of names\n",
    "\n",
    "Print the filenames in the archive"
   ]
  },
  {
   "cell_type": "code",
   "execution_count": 132,
   "metadata": {
    "collapsed": false
   },
   "outputs": [],
   "source": [
    "#"
   ]
  },
  {
   "cell_type": "markdown",
   "metadata": {},
   "source": [
    "## Determine how to read a single file from the archive\n",
    "\n",
    "Print the __doc__ information for the zipfile method 'read'"
   ]
  },
  {
   "cell_type": "code",
   "execution_count": 133,
   "metadata": {
    "collapsed": false
   },
   "outputs": [],
   "source": [
    "#"
   ]
  },
  {
   "cell_type": "markdown",
   "metadata": {},
   "source": [
    "## Read 'accident.csv' from the archive\n",
    "\n",
    "Use the read() method to read the file 'accident.csv' from the archive into a buffer\n",
    "\n",
    "Call the result 'acc'"
   ]
  },
  {
   "cell_type": "code",
   "execution_count": 134,
   "metadata": {
    "collapsed": false
   },
   "outputs": [],
   "source": [
    "#"
   ]
  },
  {
   "cell_type": "markdown",
   "metadata": {},
   "source": [
    "## Determine the length and type of the result\n",
    "\n",
    "Use type() and len() for this"
   ]
  },
  {
   "cell_type": "code",
   "execution_count": 135,
   "metadata": {
    "collapsed": false
   },
   "outputs": [],
   "source": [
    "#"
   ]
  },
  {
   "cell_type": "markdown",
   "metadata": {},
   "source": [
    "## See if the result can be used as input to pandas read_csv\n",
    "\n",
    "Trial and error....."
   ]
  },
  {
   "cell_type": "code",
   "execution_count": 136,
   "metadata": {
    "collapsed": false
   },
   "outputs": [],
   "source": [
    "#"
   ]
  },
  {
   "cell_type": "markdown",
   "metadata": {},
   "source": [
    "## Converting the result to a suitable form\n",
    "\n",
    "Currently, the expanded contents of the file 'accidents.csv' is contained in an object of class 'bytes' called 'acc'\n",
    "\n",
    "If we had a string object, we could turn it into a file-like object using the StringIO package.\n",
    "\n",
    "Our first task is to see if we can turn 'acc' into a string.\n",
    "\n",
    "Use the dir() function to list the attributes of the 'bytes' class.  For an arbitrary python object called 'obj', the syntax is:\n",
    "\n",
    "dir('obj')"
   ]
  },
  {
   "cell_type": "code",
   "execution_count": 137,
   "metadata": {
    "collapsed": false
   },
   "outputs": [],
   "source": [
    "#"
   ]
  },
  {
   "cell_type": "markdown",
   "metadata": {},
   "source": [
    "## The decode() method\n",
    "\n",
    "Use __doc__ to print the built-in documentation for the decode() method of the 'bytes' class"
   ]
  },
  {
   "cell_type": "code",
   "execution_count": 138,
   "metadata": {
    "collapsed": false
   },
   "outputs": [],
   "source": [
    "#"
   ]
  },
  {
   "cell_type": "markdown",
   "metadata": {},
   "source": [
    "##  Converting 'bytes' to 'string'\n",
    "\n",
    "Use the decode() method to convert the 'bytes' object to a string.  For an arbitrary python object of class 'bytes' called 'obj', the syntax (using the default codec) is:\n",
    "\n",
    "obj.decode()\n",
    "\n",
    "Call the result 'accstr'"
   ]
  },
  {
   "cell_type": "code",
   "execution_count": 139,
   "metadata": {
    "collapsed": true
   },
   "outputs": [],
   "source": [
    "#"
   ]
  },
  {
   "cell_type": "markdown",
   "metadata": {},
   "source": [
    "## Determine the type of the result\n",
    "\n",
    "Use the type() function to determine what type of object we have now"
   ]
  },
  {
   "cell_type": "code",
   "execution_count": 140,
   "metadata": {
    "collapsed": false
   },
   "outputs": [],
   "source": [
    "#"
   ]
  },
  {
   "cell_type": "markdown",
   "metadata": {},
   "source": [
    "## Create a file-like object\n",
    "\n",
    "Now that the contents of 'accident.csv' are in the form of a string, we can use the StringIO function to create a file-like object.  The syntax for an arbitrary string object called 'obj' is:\n",
    "\n",
    "StringIO(obj)\n",
    "\n",
    "Call the resulting object 'accfile'"
   ]
  },
  {
   "cell_type": "code",
   "execution_count": 141,
   "metadata": {
    "collapsed": false
   },
   "outputs": [],
   "source": [
    "#"
   ]
  },
  {
   "cell_type": "markdown",
   "metadata": {},
   "source": [
    "## Determine the type of the file-like object"
   ]
  },
  {
   "cell_type": "code",
   "execution_count": 142,
   "metadata": {
    "collapsed": false
   },
   "outputs": [],
   "source": [
    "#"
   ]
  },
  {
   "cell_type": "markdown",
   "metadata": {},
   "source": [
    "## Create a pandas dataframe\n",
    "\n",
    "Now pass the file-like object in place of a filename to the pandas read_csv function.\n",
    "\n",
    "Call the resulting dataframe 'adf'\n",
    "\n",
    "Print the first five rows of the resulting dataframe."
   ]
  },
  {
   "cell_type": "code",
   "execution_count": 143,
   "metadata": {
    "collapsed": false
   },
   "outputs": [],
   "source": [
    "#"
   ]
  },
  {
   "cell_type": "markdown",
   "metadata": {},
   "source": [
    "## Print the first 5 rows of the dataframe"
   ]
  },
  {
   "cell_type": "code",
   "execution_count": 144,
   "metadata": {
    "collapsed": false
   },
   "outputs": [],
   "source": [
    "#"
   ]
  }
 ],
 "metadata": {
  "kernelspec": {
   "display_name": "Python 3",
   "language": "python",
   "name": "python3"
  },
  "language_info": {
   "codemirror_mode": {
    "name": "ipython",
    "version": 3
   },
   "file_extension": ".py",
   "mimetype": "text/x-python",
   "name": "python",
   "nbconvert_exporter": "python",
   "pygments_lexer": "ipython3",
   "version": "3.5.2"
  }
 },
 "nbformat": 4,
 "nbformat_minor": 2
}
