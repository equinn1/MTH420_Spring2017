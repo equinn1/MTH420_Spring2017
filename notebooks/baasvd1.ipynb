{
 "cells": [
  {
   "cell_type": "markdown",
   "metadata": {},
   "source": [
    "# Singular Value Decomposition\n",
    "\n",
    "Example from Richard Smith's analysis of the BAA Marathon data\n",
    "\n",
    "If $A$ is an $m\\times n$ real matrix, the *singular value decomposition* is a factorization of the form:\n",
    "\n",
    "$$\n",
    "A = U\\;S\\;V'\n",
    "$$\n",
    "\n",
    "Where:\n",
    "\n",
    "* $U$ is an $m\\times m$ orthogonal matrix (i.e., $U'U = UU' = I$)\n",
    "* $S$ is an $m\\times n$ diagonal matrix\n",
    "* $V$ is an $n\\times n$ orthogonal matrix"
   ]
  },
  {
   "cell_type": "code",
   "execution_count": null,
   "metadata": {
    "collapsed": true
   },
   "outputs": [],
   "source": [
    "#import numpy, pandas, svd (Singular Value Decomposition), pinv (Moore-Penrose pseudoinverse\n",
    "import numpy as np\n",
    "import pandas as pd\n",
    "from numpy.linalg import svd, pinv"
   ]
  },
  {
   "cell_type": "markdown",
   "metadata": {},
   "source": [
    "## Read the data from Tim1.txt"
   ]
  },
  {
   "cell_type": "code",
   "execution_count": null,
   "metadata": {
    "collapsed": false
   },
   "outputs": [],
   "source": [
    "#read in the data\n",
    "fTim1 = pd.read_csv('../../rls_baa2013/TIM1.txt', delim_whitespace=True)\n",
    "fTim1.head()"
   ]
  },
  {
   "cell_type": "markdown",
   "metadata": {},
   "source": [
    "## Create a dataframe with only the runners with NO missing split times"
   ]
  },
  {
   "cell_type": "code",
   "execution_count": null,
   "metadata": {
    "collapsed": false
   },
   "outputs": [],
   "source": [
    "#find runners with complete split times\n",
    "fTim1Data = fTim1[pd.isnull(fTim1.ix[:,'K0-5':'K40-Fin']).sum(axis=1) == 0]\n",
    "print(fTim1Data.shape)\n",
    "fTim1Data.head()"
   ]
  },
  {
   "cell_type": "markdown",
   "metadata": {},
   "source": [
    "## Create a dataframe with just (complete) split times as columns"
   ]
  },
  {
   "cell_type": "code",
   "execution_count": null,
   "metadata": {
    "collapsed": false
   },
   "outputs": [],
   "source": [
    "frameFull = fTim1Data.ix[:,'K0-5':'K40-Fin']\n",
    "print(frameFull.shape)\n",
    "frameFull.head()"
   ]
  },
  {
   "cell_type": "markdown",
   "metadata": {},
   "source": [
    "## x"
   ]
  },
  {
   "cell_type": "code",
   "execution_count": null,
   "metadata": {
    "collapsed": false
   },
   "outputs": [],
   "source": [
    "u,s,vt = svd(frameFull.values, full_matrices=False)"
   ]
  },
  {
   "cell_type": "markdown",
   "metadata": {},
   "source": [
    "## Determine the type of the u object"
   ]
  },
  {
   "cell_type": "code",
   "execution_count": null,
   "metadata": {
    "collapsed": false
   },
   "outputs": [],
   "source": [
    "print(type(u))"
   ]
  },
  {
   "cell_type": "markdown",
   "metadata": {},
   "source": [
    "## List the attributes of numpy.ndarray"
   ]
  },
  {
   "cell_type": "code",
   "execution_count": null,
   "metadata": {
    "collapsed": false
   },
   "outputs": [],
   "source": [
    "print(dir(u))"
   ]
  },
  {
   "cell_type": "markdown",
   "metadata": {},
   "source": [
    "## List the dimensions of u"
   ]
  },
  {
   "cell_type": "code",
   "execution_count": null,
   "metadata": {
    "collapsed": false
   },
   "outputs": [],
   "source": [
    "u.shape"
   ]
  },
  {
   "cell_type": "markdown",
   "metadata": {},
   "source": [
    "## Show the first few rows of u"
   ]
  },
  {
   "cell_type": "code",
   "execution_count": null,
   "metadata": {
    "collapsed": false
   },
   "outputs": [],
   "source": [
    "print(u[0:5,])"
   ]
  },
  {
   "cell_type": "markdown",
   "metadata": {},
   "source": [
    "## Determine the type of the s object"
   ]
  },
  {
   "cell_type": "code",
   "execution_count": null,
   "metadata": {
    "collapsed": false
   },
   "outputs": [],
   "source": [
    "print(type(s))"
   ]
  },
  {
   "cell_type": "markdown",
   "metadata": {},
   "source": [
    "## List the dimensions of s"
   ]
  },
  {
   "cell_type": "code",
   "execution_count": null,
   "metadata": {
    "collapsed": false
   },
   "outputs": [],
   "source": [
    "s.shape"
   ]
  },
  {
   "cell_type": "markdown",
   "metadata": {},
   "source": [
    "## Show s"
   ]
  },
  {
   "cell_type": "code",
   "execution_count": null,
   "metadata": {
    "collapsed": false
   },
   "outputs": [],
   "source": [
    "print(s)"
   ]
  },
  {
   "cell_type": "markdown",
   "metadata": {},
   "source": [
    "## Determine the type of the vt object"
   ]
  },
  {
   "cell_type": "code",
   "execution_count": null,
   "metadata": {
    "collapsed": false
   },
   "outputs": [],
   "source": [
    "print(type(vt))"
   ]
  },
  {
   "cell_type": "markdown",
   "metadata": {},
   "source": [
    "## List the dimensions of vt"
   ]
  },
  {
   "cell_type": "code",
   "execution_count": null,
   "metadata": {
    "collapsed": false
   },
   "outputs": [],
   "source": [
    "vt.shape"
   ]
  },
  {
   "cell_type": "markdown",
   "metadata": {},
   "source": [
    "## Show vt"
   ]
  },
  {
   "cell_type": "code",
   "execution_count": null,
   "metadata": {
    "collapsed": false
   },
   "outputs": [],
   "source": [
    "print(vt)"
   ]
  },
  {
   "cell_type": "markdown",
   "metadata": {},
   "source": [
    "## Get the transpose of vt"
   ]
  },
  {
   "cell_type": "code",
   "execution_count": null,
   "metadata": {
    "collapsed": false
   },
   "outputs": [],
   "source": [
    "v = vt.T\n",
    "print(vt.shape)\n",
    "print(v.shape)"
   ]
  },
  {
   "cell_type": "markdown",
   "metadata": {},
   "source": [
    "## Compute vt' times the diagonal matrix constructed from s"
   ]
  },
  {
   "cell_type": "code",
   "execution_count": null,
   "metadata": {
    "collapsed": false
   },
   "outputs": [],
   "source": [
    "vs = np.dot(v[:,:9],np.diag(s[:9]))"
   ]
  },
  {
   "cell_type": "markdown",
   "metadata": {},
   "source": [
    "## Make a dataframe from the result"
   ]
  },
  {
   "cell_type": "code",
   "execution_count": null,
   "metadata": {
    "collapsed": false
   },
   "outputs": [],
   "source": [
    "vsdf = pd.DataFrame(vs, index = frameFull.columns)\n",
    "print(vsdf.shape)\n",
    "vsdf"
   ]
  },
  {
   "cell_type": "markdown",
   "metadata": {},
   "source": [
    "## Create a dataframe with only runners WITH missing split times"
   ]
  },
  {
   "cell_type": "code",
   "execution_count": null,
   "metadata": {
    "collapsed": false
   },
   "outputs": [],
   "source": [
    "#find runners with missing split times\n",
    "fTim1Test = fTim1[pd.isnull(fTim1.ix[:,'K0-5':'K40-Fin']).sum(axis=1) > 0]\n",
    "print(fTim1Test.shape)\n",
    "fTim1Test.head()"
   ]
  },
  {
   "cell_type": "markdown",
   "metadata": {},
   "source": [
    "## Make a dataframe with only splits for runners with missing values"
   ]
  },
  {
   "cell_type": "code",
   "execution_count": null,
   "metadata": {
    "collapsed": false
   },
   "outputs": [],
   "source": [
    "frameTest = fTim1Test.ix[:,'K0-5':'K40-Fin']\n",
    "print(frameTest.shape)\n",
    "frameTest.head()"
   ]
  },
  {
   "cell_type": "markdown",
   "metadata": {},
   "source": [
    "## Create a copy of frameTest to hold the predicted values"
   ]
  },
  {
   "cell_type": "code",
   "execution_count": null,
   "metadata": {
    "collapsed": true
   },
   "outputs": [],
   "source": [
    "framePredict = frameTest.copy()"
   ]
  },
  {
   "cell_type": "markdown",
   "metadata": {},
   "source": [
    "## Now fill in the missing splits"
   ]
  },
  {
   "cell_type": "code",
   "execution_count": null,
   "metadata": {
    "collapsed": false
   },
   "outputs": [],
   "source": [
    "ndisp=4\n",
    "i=0\n",
    "skip=100\n",
    "\n",
    "for ind, row in frameTest.iterrows():\n",
    "        row_part = row.dropna()\n",
    "        if (i < ndisp+skip):\n",
    "            print(\"\\n******************\\nrow: {}\\n\\n\",format(row))\n",
    "            print(\"row_part: {}\\n\\n\",format(row_part))\n",
    "            print(\"row_part.index: {}\\n\\n\",format(row_part.index))\n",
    "            print(\"vsdf.ix[row_part.index]: {}\\n\\n\",format(vsdf.ix[row_part.index]))\n",
    "            print(\"pinv: {}\\n\\n\",format(pinv(vsdf.ix[row_part.index])))\n",
    "            print(\"np.dot(pinv(vsdf.ix[row_part.index]), row_part): {}\\n\\n\",format(np.dot(pinv(vsdf.ix[row_part.index]), row_part)))\n",
    "            print(\"np.dot(vsdf, x): {},\\n\\n\",format(np.dot(vsdf, x)))\n",
    "        i=i+1"
   ]
  },
  {
   "cell_type": "code",
   "execution_count": null,
   "metadata": {
    "collapsed": false
   },
   "outputs": [],
   "source": [
    "for ind, row in frameTest.iterrows():\n",
    "    row_part = row.dropna()                                 #select only non-missing cells\n",
    "    x = np.dot(pinv(vsdf.ix[row_part.index]), row_part)\n",
    "    framePredict.ix[ind] = np.dot(vsdf, x)"
   ]
  },
  {
   "cell_type": "markdown",
   "metadata": {},
   "source": [
    "## Show a few predicted values"
   ]
  },
  {
   "cell_type": "code",
   "execution_count": null,
   "metadata": {
    "collapsed": false
   },
   "outputs": [],
   "source": [
    "print(framePredict.shape)\n",
    "framePredict.head()"
   ]
  },
  {
   "cell_type": "markdown",
   "metadata": {},
   "source": [
    "## Create a column for predicted finish time"
   ]
  },
  {
   "cell_type": "code",
   "execution_count": null,
   "metadata": {
    "collapsed": false
   },
   "outputs": [],
   "source": [
    "framePredict['SVDTime'] = framePredict.sum(axis=1)\n",
    "framePredict.head()"
   ]
  },
  {
   "cell_type": "markdown",
   "metadata": {},
   "source": [
    "## Save the completed times to a .csv file"
   ]
  },
  {
   "cell_type": "code",
   "execution_count": null,
   "metadata": {
    "collapsed": false
   },
   "outputs": [],
   "source": [
    "#save the data along with the SVDTime column to output file\n",
    "framePredict.to_csv('PredictSVD.csv')"
   ]
  }
 ],
 "metadata": {
  "kernelspec": {
   "display_name": "Python 3",
   "language": "python",
   "name": "python3"
  },
  "language_info": {
   "codemirror_mode": {
    "name": "ipython",
    "version": 3
   },
   "file_extension": ".py",
   "mimetype": "text/x-python",
   "name": "python",
   "nbconvert_exporter": "python",
   "pygments_lexer": "ipython3",
   "version": "3.5.3"
  }
 },
 "nbformat": 4,
 "nbformat_minor": 2
}
