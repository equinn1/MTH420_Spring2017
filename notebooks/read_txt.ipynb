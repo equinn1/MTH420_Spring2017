{
 "cells": [
  {
   "cell_type": "markdown",
   "metadata": {},
   "source": [
    "# Exercise: read a text file\n",
    "\n",
    "The first step in working with any kind of data is usually reading it from whatever media it resides on into the memory of your computer so you can do something with it.\n",
    "\n",
    "At the lowest level, the data is just a stream of binary values - zeroes and ones\n",
    "\n",
    "Most computer languages provide facilities for reading data from files and transfering it to memory.\n",
    "\n",
    "Usually the options are to treat the data as binary, with no structure assumed, or to treat it as a stream of binary encoded characters (text).\n",
    "\n",
    "We will experiment with reading a file as text.  "
   ]
  },
  {
   "cell_type": "code",
   "execution_count": null,
   "metadata": {
    "collapsed": true
   },
   "outputs": [],
   "source": [
    "import numpy as np\n",
    "import scipy as sc\n",
    "import pandas as pd\n",
    "import matplotlib as mp\n",
    "%matplotlib inline"
   ]
  },
  {
   "cell_type": "markdown",
   "metadata": {},
   "source": [
    "## Open a file in read mode\n",
    "\n",
    "Use the function:\n",
    "\n",
    "f=open('some_file_name','r')\n",
    "\n",
    "The file you want to open is called:\n",
    "\n",
    "text.txt\n",
    "\n",
    "The file is in the parent directory of this notebook."
   ]
  },
  {
   "cell_type": "code",
   "execution_count": null,
   "metadata": {
    "collapsed": true
   },
   "outputs": [],
   "source": [
    "#"
   ]
  },
  {
   "cell_type": "markdown",
   "metadata": {},
   "source": [
    "## Read the contents of the file\n",
    "\n",
    "If f is an open file object, the function\n",
    "\n",
    "f.read()\n",
    "\n",
    "will transfer the entire contents of the file into a stream of bytes.\n",
    "\n",
    "Use this function to read the file"
   ]
  },
  {
   "cell_type": "code",
   "execution_count": null,
   "metadata": {
    "collapsed": false
   },
   "outputs": [],
   "source": [
    "#"
   ]
  },
  {
   "cell_type": "markdown",
   "metadata": {},
   "source": [
    "## Since we did not assign the result of the function to anything, python tries to print the result.  \n",
    "\n",
    "Usually this is not what we want, and for a large file it can cause the notebook to hang for quite a while or even crash.\n",
    "\n",
    "Try this again, but assign the result to the name 'tx'"
   ]
  },
  {
   "cell_type": "code",
   "execution_count": null,
   "metadata": {
    "collapsed": true
   },
   "outputs": [],
   "source": [
    "#"
   ]
  },
  {
   "cell_type": "markdown",
   "metadata": {},
   "source": [
    "## Show the type of the result\n",
    "\n",
    "use the type() function to print the type of the result"
   ]
  },
  {
   "cell_type": "code",
   "execution_count": null,
   "metadata": {
    "collapsed": false
   },
   "outputs": [],
   "source": [
    "#"
   ]
  },
  {
   "cell_type": "markdown",
   "metadata": {},
   "source": [
    "## Determine the length of the result\n",
    "\n",
    "Use the len() function to determine the length of the result"
   ]
  },
  {
   "cell_type": "code",
   "execution_count": null,
   "metadata": {
    "collapsed": false
   },
   "outputs": [],
   "source": [
    "#"
   ]
  },
  {
   "cell_type": "markdown",
   "metadata": {},
   "source": [
    "## Why the length is zero\n",
    "\n",
    "The open() function performs a number of housekeeping tasks, one of which is to set a pointer to the beginning of the data.  \n",
    "\n",
    "Subsequent read() functions advance this pointer.  \n",
    "\n",
    "If the pointer is already at the end of the data, read() will return an empty string.\n",
    "\n",
    "The fix for this is to reopen the file, but first we should use the close() function to close it.\n",
    "\n",
    "This cleans up any objects created by open() which otherwise might cause problems."
   ]
  },
  {
   "cell_type": "code",
   "execution_count": null,
   "metadata": {
    "collapsed": false
   },
   "outputs": [],
   "source": [
    "#"
   ]
  },
  {
   "cell_type": "markdown",
   "metadata": {},
   "source": [
    "## Now reopen the file"
   ]
  },
  {
   "cell_type": "code",
   "execution_count": null,
   "metadata": {
    "collapsed": false
   },
   "outputs": [],
   "source": [
    "#"
   ]
  },
  {
   "cell_type": "markdown",
   "metadata": {},
   "source": [
    "## And reread the contents\n",
    "\n",
    "Except this time, call the result 'tx'"
   ]
  },
  {
   "cell_type": "code",
   "execution_count": null,
   "metadata": {
    "collapsed": false
   },
   "outputs": [],
   "source": [
    "#"
   ]
  },
  {
   "cell_type": "markdown",
   "metadata": {},
   "source": [
    "## Display the type and length of the result"
   ]
  },
  {
   "cell_type": "code",
   "execution_count": null,
   "metadata": {
    "collapsed": false
   },
   "outputs": [],
   "source": [
    "#"
   ]
  },
  {
   "cell_type": "markdown",
   "metadata": {},
   "source": [
    "## Display the first 25 characters in the file\n",
    "\n",
    "Don't use print, just reference elements as tx[start:end] with appropriate integer values for start and end"
   ]
  },
  {
   "cell_type": "code",
   "execution_count": null,
   "metadata": {
    "collapsed": false
   },
   "outputs": [],
   "source": [
    "#"
   ]
  },
  {
   "cell_type": "markdown",
   "metadata": {},
   "source": [
    "## Now display the first 25 characters using print\n",
    "\n",
    "Why are the results different?"
   ]
  },
  {
   "cell_type": "code",
   "execution_count": null,
   "metadata": {
    "collapsed": false
   },
   "outputs": [],
   "source": [
    "#"
   ]
  },
  {
   "cell_type": "markdown",
   "metadata": {},
   "source": [
    "## Line by line processing\n",
    "\n",
    "A giant string containing the entire file is often not the most convenient form for processing.\n",
    "\n",
    "Often text data logically consists of a series of lines.\n",
    "\n",
    "In this case, processing the file line by line makes more sense than treating it as a string of bytes.\n",
    "\n",
    "Like most list-like objects in python, we can iterate over the result of read.\n",
    "\n",
    "Write a for loop to iterate over the result of the read() function and print the result.\n",
    "\n",
    "The general form of a for loop that does this is:\n",
    "\n",
    "for name1 in name2:\n",
    "    print(name1)"
   ]
  },
  {
   "cell_type": "code",
   "execution_count": null,
   "metadata": {
    "collapsed": false
   },
   "outputs": [],
   "source": [
    "#"
   ]
  },
  {
   "cell_type": "markdown",
   "metadata": {},
   "source": [
    "## Reading lines\n",
    "\n",
    "OK, it looks like the problem is that our result is structured as a list of characters, not lines.\n",
    "\n",
    "We can produce a result structured as lines by using readlines() instead of read()\n",
    "\n",
    "First though, we need to close and reopen the file to reset the pointers and clean up.\n",
    "\n",
    "First use the close() function to close it."
   ]
  },
  {
   "cell_type": "code",
   "execution_count": null,
   "metadata": {
    "collapsed": false
   },
   "outputs": [],
   "source": [
    "#"
   ]
  },
  {
   "cell_type": "markdown",
   "metadata": {},
   "source": [
    "## Try closing the file a second time\n",
    "\n",
    "Issue another f.close() statement and see what happens.\n",
    "\n",
    "Does this make sense?"
   ]
  },
  {
   "cell_type": "code",
   "execution_count": null,
   "metadata": {
    "collapsed": false
   },
   "outputs": [],
   "source": [
    "#"
   ]
  },
  {
   "cell_type": "markdown",
   "metadata": {},
   "source": [
    "## Now open the file as before"
   ]
  },
  {
   "cell_type": "code",
   "execution_count": null,
   "metadata": {
    "collapsed": true
   },
   "outputs": [],
   "source": [
    "#"
   ]
  },
  {
   "cell_type": "markdown",
   "metadata": {},
   "source": [
    "## Read the file line by line\n",
    "\n",
    "Now read the file with the readlines() function.\n",
    "\n",
    "Assign the result the name 'tl'"
   ]
  },
  {
   "cell_type": "code",
   "execution_count": null,
   "metadata": {
    "collapsed": true
   },
   "outputs": [],
   "source": [
    "#"
   ]
  },
  {
   "cell_type": "markdown",
   "metadata": {},
   "source": [
    "## Print the type and length of the result"
   ]
  },
  {
   "cell_type": "code",
   "execution_count": null,
   "metadata": {
    "collapsed": false
   },
   "outputs": [],
   "source": [
    "#"
   ]
  },
  {
   "cell_type": "markdown",
   "metadata": {},
   "source": [
    "## Show the length of each line read\n",
    "\n",
    "Write a for loop to iterate over the result and print the length of each line.\n",
    "\n",
    "What are the shortest lines?\n",
    "\n",
    "How would you interpret them?"
   ]
  },
  {
   "cell_type": "code",
   "execution_count": null,
   "metadata": {
    "collapsed": false
   },
   "outputs": [],
   "source": [
    "#"
   ]
  },
  {
   "cell_type": "markdown",
   "metadata": {},
   "source": [
    "## Print the lines in the file\n",
    "\n",
    "Now write a for loop to iterate over the result printing each line."
   ]
  },
  {
   "cell_type": "code",
   "execution_count": null,
   "metadata": {
    "collapsed": false
   },
   "outputs": [],
   "source": [
    "#"
   ]
  },
  {
   "cell_type": "markdown",
   "metadata": {},
   "source": [
    "## Finally, close the file"
   ]
  },
  {
   "cell_type": "code",
   "execution_count": null,
   "metadata": {
    "collapsed": true
   },
   "outputs": [],
   "source": [
    "#"
   ]
  },
  {
   "cell_type": "markdown",
   "metadata": {},
   "source": [
    "## Better practice for working with files\n",
    "\n",
    "Python developers often speak of the \"pythonic\" way to accomplish a task, or describe one method as \"more pythonic\" than another.\n",
    "\n",
    "In that spirit, the \"more pythonic\" way to open a file and read it is to use 'with' and 'as'.  \n",
    "\n",
    "The general syntax is:\n",
    "\n",
    "with open('name','r') as f:\n",
    "    result = f.readlines()\n",
    "    \n",
    "The advantage of this method is that it opens the file, reads it into 'result', and closes the file automatically.\n",
    "\n",
    "Write code that opens and reads our file using this method."
   ]
  },
  {
   "cell_type": "code",
   "execution_count": null,
   "metadata": {
    "collapsed": false
   },
   "outputs": [],
   "source": [
    "#"
   ]
  }
 ],
 "metadata": {
  "kernelspec": {
   "display_name": "Python 3",
   "language": "python",
   "name": "python3"
  },
  "language_info": {
   "codemirror_mode": {
    "name": "ipython",
    "version": 3
   },
   "file_extension": ".py",
   "mimetype": "text/x-python",
   "name": "python",
   "nbconvert_exporter": "python",
   "pygments_lexer": "ipython3",
   "version": "3.5.2"
  }
 },
 "nbformat": 4,
 "nbformat_minor": 2
}
