{
 "cells": [
  {
   "cell_type": "markdown",
   "metadata": {},
   "source": [
    "# Week 9 Exercises\n",
    "\n",
    "This week we will explore file transfer, pandas indexing, and get more practice with \"data wrangling\""
   ]
  },
  {
   "cell_type": "markdown",
   "metadata": {},
   "source": [
    "## Some interesting reading:\n",
    "\n",
    "http://www.prnewswire.com/news-releases/stack-overflow-releases-2017-developer-survey-results-300426519.html"
   ]
  },
  {
   "cell_type": "markdown",
   "metadata": {},
   "source": [
    "## Windows users:\n",
    "\n",
    "Download and install Filezilla:\n",
    "\n",
    "https://filezilla-project.org/\n",
    "\n",
    "## Mac users:\n",
    "\n",
    "No additional software required; "
   ]
  },
  {
   "cell_type": "markdown",
   "metadata": {},
   "source": [
    "## Downloading an archive\n",
    "\n",
    "Mac users:  Start a secure ftp session with:\n",
    "\n",
    "sftp username@mathcap.stonehill.edu\n",
    "\n",
    "Enter ls to see what directory your are in.\n",
    "\n",
    "The archive is:  /var/tmp/mth420/data\n",
    "\n",
    "Mac users:  download  rls_baa2013.tar\n",
    "PC users:   download  rls_baa2013.zip\n",
    "\n",
    "Use pwd, cd, and ls to navigate to the directory the archive resides in, then use \n",
    "\n",
    "get xxxxxxxx\n",
    "\n",
    "where xxxxxxx is the file name."
   ]
  },
  {
   "cell_type": "markdown",
   "metadata": {},
   "source": [
    "## Expanding the archive\n",
    "\n",
    "Windows users:  copy the archive to what will become its parent directory, and unzip it\n",
    "\n",
    "Mac users:      copy the archive to the parent directory, and type:   tar -zxvf rls_baa2013.tar"
   ]
  },
  {
   "cell_type": "markdown",
   "metadata": {},
   "source": [
    "## Import the usual python packages \n",
    "\n",
    "Import the packages we have used previously (copy from an earlier notebook)"
   ]
  },
  {
   "cell_type": "code",
   "execution_count": 50,
   "metadata": {
    "collapsed": true
   },
   "outputs": [],
   "source": [
    "import numpy as np              #standard imports\n",
    "import scipy as sc\n",
    "import pandas as pd\n",
    "import matplotlib as plt\n",
    "%matplotlib inline"
   ]
  },
  {
   "cell_type": "markdown",
   "metadata": {},
   "source": [
    "## Determine our current directory\n",
    "\n",
    "To find the current directory, \n",
    "use (Mac:) \n",
    "\n",
    "!pwd   \n",
    "\n",
    "(Windows:) \n",
    "\n",
    "!dir"
   ]
  },
  {
   "cell_type": "code",
   "execution_count": 51,
   "metadata": {
    "collapsed": false
   },
   "outputs": [],
   "source": [
    "#"
   ]
  },
  {
   "cell_type": "markdown",
   "metadata": {},
   "source": [
    "## Determine how to reference the input file\n",
    "\n",
    "The file TIM.txt should be in the expanded archive.\n",
    "\n",
    "Using some variant of the command\n",
    "\n",
    "!head TIM.txt\n",
    "\n",
    "You will probably need to supply some '../' or directory name elements before 'TIM.txt', which will be determined by how you would switch from the directory the notebook is running in to the one the file is in.  "
   ]
  },
  {
   "cell_type": "code",
   "execution_count": 52,
   "metadata": {
    "collapsed": false
   },
   "outputs": [],
   "source": [
    "#"
   ]
  },
  {
   "cell_type": "markdown",
   "metadata": {},
   "source": [
    "## Read the data\n",
    "\n",
    "The data file we want to read is called:  TIM.txt\n",
    "\n",
    "We want to read it into a pandas data frame called baa using the pandas read_csv() function.\n",
    "\n",
    "The documentation for read_csv is here:\n",
    "\n",
    "http://pandas.pydata.org/pandas-docs/stable/generated/pandas.read_csv.html"
   ]
  },
  {
   "cell_type": "code",
   "execution_count": 53,
   "metadata": {
    "collapsed": false
   },
   "outputs": [],
   "source": [
    "#"
   ]
  },
  {
   "cell_type": "markdown",
   "metadata": {},
   "source": [
    "## List the first 10 rows of the baa dataframe"
   ]
  },
  {
   "cell_type": "code",
   "execution_count": 54,
   "metadata": {
    "collapsed": false
   },
   "outputs": [],
   "source": [
    "#"
   ]
  },
  {
   "cell_type": "markdown",
   "metadata": {},
   "source": [
    "## Determine the type of the baa object"
   ]
  },
  {
   "cell_type": "code",
   "execution_count": 55,
   "metadata": {
    "collapsed": false
   },
   "outputs": [],
   "source": [
    "#"
   ]
  },
  {
   "cell_type": "markdown",
   "metadata": {},
   "source": [
    "## Use the dir() function to list the attributes of the baa object"
   ]
  },
  {
   "cell_type": "code",
   "execution_count": 56,
   "metadata": {
    "collapsed": false
   },
   "outputs": [],
   "source": [
    "#"
   ]
  },
  {
   "cell_type": "markdown",
   "metadata": {},
   "source": [
    "## Select only the column containing the gender, and print the type of the resulting object\n",
    "\n",
    "Call the resulting object:\n",
    "\n",
    "gender\n"
   ]
  },
  {
   "cell_type": "code",
   "execution_count": 57,
   "metadata": {
    "collapsed": false
   },
   "outputs": [],
   "source": [
    "#"
   ]
  },
  {
   "cell_type": "markdown",
   "metadata": {},
   "source": [
    "## Use the dir() function to list the attributes of the object"
   ]
  },
  {
   "cell_type": "code",
   "execution_count": 58,
   "metadata": {
    "collapsed": false
   },
   "outputs": [],
   "source": [
    "#"
   ]
  },
  {
   "cell_type": "markdown",
   "metadata": {},
   "source": [
    "## Display a count of the values in this object\n",
    "\n",
    "Use the method 'value_counts'"
   ]
  },
  {
   "cell_type": "code",
   "execution_count": 59,
   "metadata": {
    "collapsed": false
   },
   "outputs": [],
   "source": [
    "#"
   ]
  },
  {
   "cell_type": "code",
   "execution_count": null,
   "metadata": {
    "collapsed": true
   },
   "outputs": [],
   "source": []
  }
 ],
 "metadata": {
  "kernelspec": {
   "display_name": "Python 3",
   "language": "python",
   "name": "python3"
  },
  "language_info": {
   "codemirror_mode": {
    "name": "ipython",
    "version": 3
   },
   "file_extension": ".py",
   "mimetype": "text/x-python",
   "name": "python",
   "nbconvert_exporter": "python",
   "pygments_lexer": "ipython3",
   "version": "3.5.3"
  }
 },
 "nbformat": 4,
 "nbformat_minor": 2
}
