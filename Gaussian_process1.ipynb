{
 "cells": [
  {
   "cell_type": "markdown",
   "metadata": {},
   "source": [
    "# Gaussian processes"
   ]
  },
  {
   "cell_type": "markdown",
   "metadata": {},
   "source": [
    "## Keeping your software current\n",
    "\n",
    "In general, software is constantly evolving, and arguably open source software is evolving faster than propietary software.\n",
    "\n",
    "The Python \"ecosystem\" seems to be particularly dynamic, probably because there is so much interest in Python.\n",
    "\n",
    "This means new versions of packages you have installed are usually in the works, and at some point will be available for downloading.\n",
    "\n",
    "If you are using a bundle like Anaconda, you can update your packages with the 'conda' command\n",
    "\n",
    "Alternatively, you can update them with 'pip'"
   ]
  },
  {
   "cell_type": "markdown",
   "metadata": {},
   "source": [
    "## Keeping git repository clones current\n",
    "\n",
    "Many packages provide repositories of examples on github, which provide a jump-start if you are trying to learn how to use a package.\n",
    "\n",
    "The scikit-learn package is no exception.  The repository is here:\n",
    "\n",
    "https://github.com/scikit-learn/scikit-learn\n",
    "\n",
    "If you haven't already, you should clone it.  Click on the link above, then click on the green \"Clone or Download\" button on the web page to get the URL for the repository, which is:\n",
    "\n",
    "https://github.com/scikit-learn/scikit-learn.git\n",
    "\n",
    "Once you have copied this URL link to your clipboard, open a command prompt in the directory you want to be the parent of the 'scikit-learn' clone, and type:\n",
    "\n",
    "git clone\n",
    "\n",
    "Leave a space after clone, and paste in https://github.com/scikit-learn/scikit-learn.git\n",
    "\n",
    "That's all there is to it.  When the process finishes, you will have a new subdirectory with the same name as the last node of the clone URL, minus '.git'  ('scikit-learn' in this case).\n",
    "\n",
    "Under the covers, git will creat a hidden directory called .git in the new directory with all of the information needed to support the functions of git.\n"
   ]
  },
  {
   "cell_type": "markdown",
   "metadata": {},
   "source": [
    "## Exercise: Update the 'scikit-learn' repository clone"
   ]
  },
  {
   "cell_type": "markdown",
   "metadata": {},
   "source": [
    "## First we have to navigate to the cloned directory\n",
    "\n",
    "As usual, we'll navigate there by a series of 'cd' commands.  \n",
    "\n",
    "The exact commands that work for you will depend on your current directory structure, and will be different for each machine.\n",
    "\n",
    "Start by figuring what our current directory is, by executing one of the following cells:"
   ]
  },
  {
   "cell_type": "code",
   "execution_count": null,
   "metadata": {
    "collapsed": false
   },
   "outputs": [],
   "source": [
    "!pwd     #Use this for MacOSx or Linux/Unix"
   ]
  },
  {
   "cell_type": "code",
   "execution_count": null,
   "metadata": {
    "collapsed": false
   },
   "outputs": [],
   "source": [
    "!dir     #Use this for windows"
   ]
  },
  {
   "cell_type": "markdown",
   "metadata": {},
   "source": [
    "## List the contents of the current directory\n",
    "\n",
    "The output of !dir on a windows system will include this.  For Mac or Linux, enter:"
   ]
  },
  {
   "cell_type": "code",
   "execution_count": null,
   "metadata": {
    "collapsed": false
   },
   "outputs": [],
   "source": [
    "!ls -l"
   ]
  },
  {
   "cell_type": "markdown",
   "metadata": {},
   "source": [
    "## Navigate to the scikit-learn directory\n",
    "\n",
    "From here you are on your own.  You will have to figure out where this directory is relative to the current directory.  \n",
    "\n",
    "If it is in a subdirectory of the current directory (or a subfolder of a subfolder, or a subfolder of a subfolder of a subfolder, etc.), you can get there with a single 'cd' command, just list the subdirectories from the highest to the lowest level, separated by slashes (maybe backslashes on windows? I'm not sure).\n",
    "\n",
    "If scikit-learn is not in a subfolder of the current directory, you will have to navigate back up through the directory tree using 'cd ..' repeatedly to get to the parent of the current directory.\n",
    "\n",
    "Eventually, this WILL bring you a directory that scikit-learn as a subdirectory.  It has to, because the directory structure is a tree, and there is a single node called the root directory for which every directory is a subdirectory, albeit many layers down.\n",
    "\n",
    "On a Mac or Linux, the root directory is just a forward slash:\n",
    "\n",
    "/\n",
    "\n",
    "On windows, the root directory is usually:\n",
    "\n",
    "C:\\\n",
    "\n",
    "although the letter may vary.  This naming convention is a throwback to the original IBM PC, which predates windows, but used the same directory names for DOS.  The original IBM pc did not have a hard drive, but supported two floppy disk drives, which used the letters A: and B:\n",
    "\n",
    "The later model PC/XT had a hard drive, and it was usually given the 'drive letter' C:\n",
    "\n",
    "There is no concept of 'drive letters' on Mac or Unix.\n",
    "\n",
    "Most 'casual' computer users are not aware of directories and subdirectories, and on first exposure find them very confusing.\n",
    "\n"
   ]
  },
  {
   "cell_type": "markdown",
   "metadata": {},
   "source": [
    "## Doing a 'pull' from github\n",
    "\n",
    "Once you are in the correct directory, you can issue the following git command:\n",
    "\n",
    "git pull origin master\n",
    "\n",
    "If you are in a cloned github repository, and you took all defaults when you created it, this is the command you always use to do a pull.  If you decided to use custom names, you might need something other than 'origin' and 'master'"
   ]
  },
  {
   "cell_type": "markdown",
   "metadata": {},
   "source": [
    "## Possible errors\n",
    "\n",
    "One common error is attempting to issue 'git pull origin master' from the wrong directory.\n",
    "\n",
    "If git doesn't find the hidden .git subdirectory in the directory from which you issue 'git pull origin master' it will fail."
   ]
  },
  {
   "cell_type": "code",
   "execution_count": null,
   "metadata": {
    "collapsed": false
   },
   "outputs": [],
   "source": [
    "!git pull origin master"
   ]
  }
 ],
 "metadata": {
  "kernelspec": {
   "display_name": "Python 3",
   "language": "python",
   "name": "python3"
  },
  "language_info": {
   "codemirror_mode": {
    "name": "ipython",
    "version": 3
   },
   "file_extension": ".py",
   "mimetype": "text/x-python",
   "name": "python",
   "nbconvert_exporter": "python",
   "pygments_lexer": "ipython3",
   "version": "3.5.3"
  }
 },
 "nbformat": 4,
 "nbformat_minor": 2
}
