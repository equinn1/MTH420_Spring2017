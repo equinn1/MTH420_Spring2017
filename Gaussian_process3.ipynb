{
 "cells": [
  {
   "cell_type": "markdown",
   "metadata": {},
   "source": [
    "# Gaussian process example from scikit-learn\n",
    "\n",
    "This is based on plot_gpr_noisy_targets.ipynb\n",
    "\n",
    "You can find it here:\n",
    "\n",
    "http://scikit-learn.org/stable/auto_examples/gaussian_process/plot_gpr_noisy_targets.html\n",
    "\n",
    "Rather than run it all at once, we'll go through it step by step.\n",
    "\n",
    "First we have to do the necessary imports:"
   ]
  },
  {
   "cell_type": "code",
   "execution_count": null,
   "metadata": {
    "collapsed": false
   },
   "outputs": [],
   "source": [
    "import numpy as np\n",
    "from matplotlib import pyplot as plt\n",
    "\n",
    "from sklearn.gaussian_process import GaussianProcessRegressor\n",
    "from sklearn.gaussian_process.kernels import RBF, ConstantKernel as C\n",
    "%matplotlib inline"
   ]
  },
  {
   "cell_type": "markdown",
   "metadata": {},
   "source": [
    "## Optionally, we set the 'seed' for the random number generator\n",
    "\n",
    "This makes the sequence of 'random' numbers generated the same every time.\n",
    "\n",
    "Sometimes you want this. \n",
    "\n",
    "For example, if you are developing the program, you want to know that when you change it the changes you see in the results are not just due to different random numbers, but to the changes you made.\n",
    "\n",
    "You can choose any integer you want; 1 is a popular choice."
   ]
  },
  {
   "cell_type": "code",
   "execution_count": null,
   "metadata": {
    "collapsed": false
   },
   "outputs": [],
   "source": [
    "np.random.seed(1)"
   ]
  },
  {
   "cell_type": "markdown",
   "metadata": {},
   "source": [
    "## Define the data generating function\n",
    "\n",
    "Since this is an artificial example, we want to know the underlying form of the data.\n",
    "\n",
    "In real life, you wouldn't know this.\n",
    "\n",
    "This is a function definition, so when we execute the cell it seems like nothing happens. \n",
    "\n",
    "But, further down we can write 'f(3.5)' and Python will know what we mean.\n",
    "\n",
    "This function has a single argument, and returns a single value."
   ]
  },
  {
   "cell_type": "code",
   "execution_count": null,
   "metadata": {
    "collapsed": false
   },
   "outputs": [],
   "source": [
    "def f(x):\n",
    "    \"\"\"The function to predict.\"\"\"\n",
    "    return x * np.sin(x)"
   ]
  },
  {
   "cell_type": "markdown",
   "metadata": {},
   "source": [
    "## x coordinates of known values\n",
    "\n",
    "First we generate a few x coordinates.  \n",
    "\n",
    "We'll supply the function values at these points, and let the Gaussian process fill in the rest."
   ]
  },
  {
   "cell_type": "code",
   "execution_count": null,
   "metadata": {
    "collapsed": false
   },
   "outputs": [],
   "source": [
    "# ----------------------------------------------------------------------\n",
    "# now the noisy case\n",
    "X = np.linspace(0.1, 9.9, 20)\n",
    "X = np.atleast_2d(X).T\n",
    "\n",
    "print(X.shape)\n",
    "print(X)"
   ]
  },
  {
   "cell_type": "markdown",
   "metadata": {},
   "source": [
    "## Creating the y values\n",
    "\n",
    "We can just call the functio f() that we defined previously using the array X as the argument:"
   ]
  },
  {
   "cell_type": "code",
   "execution_count": null,
   "metadata": {
    "collapsed": false
   },
   "outputs": [],
   "source": [
    "# Observations and noise\n",
    "y = f(X).ravel()\n",
    "print(y)\n",
    "\n",
    "print(type(y))"
   ]
  },
  {
   "cell_type": "markdown",
   "metadata": {},
   "source": [
    "## Now create some background noise\n",
    "\n",
    "Recall that at each point x, the Gaussian process model assumes that we have a mean function f(x) and variance function sigma(x).\n",
    "\n",
    "First we create a sigma value for each of our data points."
   ]
  },
  {
   "cell_type": "code",
   "execution_count": null,
   "metadata": {
    "collapsed": false
   },
   "outputs": [],
   "source": [
    "dy = 0.5 + 1.0 * np.random.random(y.shape)\n",
    "\n",
    "print(dy.shape)\n",
    "\n",
    "print(dy)"
   ]
  },
  {
   "cell_type": "markdown",
   "metadata": {},
   "source": [
    "## Generate the Gaussian noise values\n",
    "\n",
    "Now we generate a normal(0,sigma) value for each data point, using the sigma values generated in the previous cell."
   ]
  },
  {
   "cell_type": "code",
   "execution_count": null,
   "metadata": {
    "collapsed": false
   },
   "outputs": [],
   "source": [
    "noise = np.random.normal(0, dy)\n",
    "\n",
    "print(noise)"
   ]
  },
  {
   "cell_type": "markdown",
   "metadata": {},
   "source": [
    "## Finally, generate our 'noisy' measurements y\n",
    "\n",
    "Add the noise values to the function values to simulate measurements with error."
   ]
  },
  {
   "cell_type": "code",
   "execution_count": null,
   "metadata": {
    "collapsed": false
   },
   "outputs": [],
   "source": [
    "y += noise\n",
    "\n",
    "print(y)"
   ]
  },
  {
   "cell_type": "markdown",
   "metadata": {},
   "source": [
    "## Generate a mesh on the x axis\n",
    "\n",
    "We want to estimate values of a function that fits the points we supplied.\n",
    "\n",
    "While the function is defined at an infinite number of points, we can only work with a finite set.\n",
    "\n",
    "We'll use the numpy linspace to generate a mesh of values. "
   ]
  },
  {
   "cell_type": "code",
   "execution_count": null,
   "metadata": {
    "collapsed": true
   },
   "outputs": [],
   "source": [
    "# Mesh the input space for evaluations of the real function, the prediction and\n",
    "# its MSE\n",
    "x = np.atleast_2d(np.linspace(0, 10, 1000)).T"
   ]
  },
  {
   "cell_type": "markdown",
   "metadata": {},
   "source": [
    "## Check the type and shape of the result"
   ]
  },
  {
   "cell_type": "code",
   "execution_count": null,
   "metadata": {
    "collapsed": false
   },
   "outputs": [],
   "source": [
    "print(type(x))\n",
    "print(x.shape)"
   ]
  },
  {
   "cell_type": "markdown",
   "metadata": {},
   "source": [
    "## Print the first few values\n",
    "\n",
    "Note that indexing for numpy ndarrays starts at zero, not one."
   ]
  },
  {
   "cell_type": "code",
   "execution_count": null,
   "metadata": {
    "collapsed": false
   },
   "outputs": [],
   "source": [
    "print(x[0:15,0])"
   ]
  },
  {
   "cell_type": "markdown",
   "metadata": {},
   "source": [
    "## Now instantiate a Gaussian process model\n",
    "\n",
    "Also, display its type"
   ]
  },
  {
   "cell_type": "code",
   "execution_count": null,
   "metadata": {
    "collapsed": false
   },
   "outputs": [],
   "source": [
    "# Instanciate a Gaussian Process model\n",
    "kernel = C(1.0, (1e-3, 1e3)) * RBF(10, (1e-2, 1e2))\n",
    "gp = GaussianProcessRegressor(kernel=kernel, alpha=(dy / y) ** 2,\n",
    "                              n_restarts_optimizer=10)\n",
    "\n",
    "print(type(gp))"
   ]
  },
  {
   "cell_type": "code",
   "execution_count": null,
   "metadata": {
    "collapsed": false
   },
   "outputs": [],
   "source": [
    "# Fit to data using Maximum Likelihood Estimation of the parameters\n",
    "gp.fit(X, y)"
   ]
  },
  {
   "cell_type": "code",
   "execution_count": null,
   "metadata": {
    "collapsed": true
   },
   "outputs": [],
   "source": [
    "# Make the prediction on the meshed x-axis (ask for MSE as well)\n",
    "y_pred, sigma = gp.predict(x, return_std=True)"
   ]
  },
  {
   "cell_type": "markdown",
   "metadata": {},
   "source": [
    "## Examine the predicted values object\n",
    "\n",
    "Note that we only need one subscript for a flattened ndarray"
   ]
  },
  {
   "cell_type": "code",
   "execution_count": null,
   "metadata": {
    "collapsed": false
   },
   "outputs": [],
   "source": [
    "print(y_pred.shape)\n",
    "print(y_pred[0:15])"
   ]
  },
  {
   "cell_type": "markdown",
   "metadata": {},
   "source": [
    "## Examine the sigma object\n",
    "\n",
    "This represents the uncertainty in the predicted value\n",
    "\n",
    "Note that it is not the same for each y"
   ]
  },
  {
   "cell_type": "code",
   "execution_count": null,
   "metadata": {
    "collapsed": false
   },
   "outputs": [],
   "source": [
    "print(sigma.shape)\n",
    "print(sigma[0:15])"
   ]
  },
  {
   "cell_type": "markdown",
   "metadata": {},
   "source": [
    "## Graph the original values, the predicted values, and 95% confidence bands\n",
    "\n",
    "The red dots are the points we supplied.\n",
    "\n",
    "The blue curve is the mean of the fitted functions at each x value\n",
    "\n",
    "The blue shaded areas represent the fitted value plus and minus 2 sigmas\n",
    "\n",
    "The dotted red line is the function that we used to generate the red dots\n",
    "\n",
    "Note that the means of the Gaussian process functions fit very well, until we get too far past our data. "
   ]
  },
  {
   "cell_type": "code",
   "execution_count": null,
   "metadata": {
    "collapsed": false
   },
   "outputs": [],
   "source": [
    "# Plot the function, the prediction and the 95% confidence interval based on\n",
    "# the MSE\n",
    "fig = plt.figure()\n",
    "plt.plot(x, f(x), 'r:', label=u'$f(x) = x\\,\\sin(x)$')\n",
    "plt.plot(X, y, 'r.', markersize=10, label=u'Observations')\n",
    "plt.plot(x, y_pred, 'b-', label=u'Prediction')\n",
    "plt.fill(np.concatenate([x, x[::-1]]),\n",
    "         np.concatenate([y_pred - 1.9600 * sigma,\n",
    "                        (y_pred + 1.9600 * sigma)[::-1]]),\n",
    "         alpha=.5, fc='b', ec='None', label='95% confidence interval')\n",
    "plt.xlabel('$x$')\n",
    "plt.ylabel('$f(x)$')\n",
    "plt.ylim(-10, 20)\n",
    "plt.legend(loc='upper left')"
   ]
  },
  {
   "cell_type": "markdown",
   "metadata": {},
   "source": [
    "## What just happened?\n",
    "\n",
    "Based on twenty data points, we constructed a smooth function that nearly interpolates those points.\n",
    "\n",
    "In Part 1, we had a smooth function without any superimposed noise, so the curve of the mean function had the appearance of perfectly interpolating the six points, but this is because the estimated error variance at those points is very small.\n",
    "\n",
    "Again, with a Gaussian process model, we don't need to specify the form of the modeling function.\n",
    "\n",
    "This is (usually) a big advantage, because in general we don't know the form of the data generating function, and it's best to assume as little as possible.\n",
    "\n",
    "The Gaussian process model lets the data determine the form of the modeling function."
   ]
  },
  {
   "cell_type": "markdown",
   "metadata": {},
   "source": [
    "## The Guassian process model\n",
    "\n",
    "We are fitting a model of the form:\n",
    "\n",
    "y = f(x) + e\n",
    "\n",
    "where f(x) is some function, and e is a normally distributed error term.\n",
    "\n",
    "These models are very common, for example, linear models (which include regression models, analysis of variance, and analysis of covariance models) have the form:\n",
    "\n",
    "y = xB + e\n",
    "\n",
    "where x is a matrix of predictor values and B is a vector of coefficients or 'parameters'\n",
    "\n",
    "We consider the predictors x to be known, observed quantities.  \n",
    "\n",
    "An infinite set of possible solution functions is generated by letting the parameter values vary over the real numbers.\n",
    "\n",
    "However, as big as it is, this set is still confined to a specific type of function.\n",
    "\n",
    "In Guassian process modeling, f(x) represents an arbitry function that gives us the mean of a Gaussian distribution at each value of x.\n",
    "\n",
    "The e term is replaced by a function that generates the variance of y at each value of x.  \n",
    "\n",
    "So the Gaussian process model is:\n",
    "\n",
    "y = N(mean(x), var(x))\n",
    "\n",
    "Essentially, the Gaussian process is a model with an infinite number of parameters, a mean and variance for each value of x on the domain."
   ]
  }
 ],
 "metadata": {
  "kernelspec": {
   "display_name": "Python 3",
   "language": "python",
   "name": "python3"
  },
  "language_info": {
   "codemirror_mode": {
    "name": "ipython",
    "version": 3
   },
   "file_extension": ".py",
   "mimetype": "text/x-python",
   "name": "python",
   "nbconvert_exporter": "python",
   "pygments_lexer": "ipython3",
   "version": "3.5.3"
  }
 },
 "nbformat": 4,
 "nbformat_minor": 2
}
